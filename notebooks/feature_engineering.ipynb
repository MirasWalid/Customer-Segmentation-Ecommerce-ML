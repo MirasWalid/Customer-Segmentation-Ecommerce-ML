{
 "cells": [
  {
   "cell_type": "code",
   "execution_count": null,
   "id": "78664144",
   "metadata": {},
   "outputs": [],
   "source": [
    "# Import necessary libraries\n",
    "import pandas as pd\n",
    "import numpy as np\n",
    "from datetime import datetime\n"
   ]
  },
  {
   "cell_type": "code",
   "execution_count": null,
   "id": "87a734cb",
   "metadata": {},
   "outputs": [],
   "source": [
    "# Load data\n",
    "data = pd.read_csv('data/online_retail_II.csv', encoding='ISO-8859-1')"
   ]
  },
  {
   "cell_type": "code",
   "execution_count": null,
   "id": "54640e89",
   "metadata": {},
   "outputs": [],
   "source": [
    "# Check columns\n",
    "print(data.columns)"
   ]
  },
  {
   "cell_type": "code",
   "execution_count": null,
   "id": "8f1c8d70",
   "metadata": {},
   "outputs": [],
   "source": [
    "# Remove rows with missing CustomerID\n",
    "data = data[pd.notnull(data['Customer ID'])]"
   ]
  },
  {
   "cell_type": "code",
   "execution_count": null,
   "id": "1ccd6415",
   "metadata": {},
   "outputs": [],
   "source": [
    "# Remove canceled orders (Invoice numbers that start with 'C')\n",
    "data = data[~data['Invoice'].astype(str).str.startswith('C')]"
   ]
  },
  {
   "cell_type": "code",
   "execution_count": null,
   "id": "d36c0da4",
   "metadata": {},
   "outputs": [],
   "source": [
    "# Create 'TotalPrice' column\n",
    "data['TotalPrice'] = data['Quantity'] * data['Price']"
   ]
  },
  {
   "cell_type": "code",
   "execution_count": null,
   "id": "a1cbf970",
   "metadata": {},
   "outputs": [],
   "source": [
    "# Define reference date (day after last invoice)\n",
    "reference_date = data['InvoiceDate'].max()\n",
    "reference_date = pd.to_datetime(reference_date) + pd.Timedelta(days=1)"
   ]
  },
  {
   "cell_type": "code",
   "execution_count": null,
   "id": "8e756871",
   "metadata": {},
   "outputs": [],
   "source": [
    "# Convert InvoiceDate to datetime\n",
    "data['InvoiceDate'] = pd.to_datetime(data['InvoiceDate'])"
   ]
  },
  {
   "cell_type": "code",
   "execution_count": null,
   "id": "414f1c20",
   "metadata": {},
   "outputs": [],
   "source": [
    "# Calculate RFM metrics per customer\n",
    "rfm = data.groupby('Customer ID').agg({\n",
    "    'InvoiceDate': lambda x: (reference_date - x.max()).days,  # Recency\n",
    "    'Invoice': 'nunique',                                     # Frequency\n",
    "    'TotalPrice': 'sum'                                       # Monetary\n",
    "})"
   ]
  },
  {
   "cell_type": "code",
   "execution_count": null,
   "id": "436bf3f8",
   "metadata": {},
   "outputs": [],
   "source": [
    "#  Rename columns\n",
    "rfm.rename(columns={\n",
    "    'InvoiceDate': 'Recency',\n",
    "    'Invoice': 'Frequency',\n",
    "    'TotalPrice': 'Monetary Value'\n",
    "}, inplace=True)"
   ]
  },
  {
   "cell_type": "code",
   "execution_count": null,
   "id": "1cf48d44",
   "metadata": {},
   "outputs": [],
   "source": [
    "# Remove customers with negative or zero Monetary\n",
    "rfm = rfm[rfm['Monetary'] > 0]"
   ]
  },
  {
   "cell_type": "code",
   "execution_count": null,
   "id": "b2edcdfe",
   "metadata": {},
   "outputs": [],
   "source": [
    "# Save RFM table \n",
    "rfm.to_csv('data/rfm_features.csv')"
   ]
  },
  {
   "cell_type": "code",
   "execution_count": null,
   "id": "4fa0978d",
   "metadata": {},
   "outputs": [],
   "source": [
    "# Check result\n",
    "print(rfm.describe())\n",
    "rfm.head()"
   ]
  }
 ],
 "metadata": {
  "language_info": {
   "name": "python"
  }
 },
 "nbformat": 4,
 "nbformat_minor": 5
}
